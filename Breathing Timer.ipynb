{
 "cells": [
  {
   "cell_type": "code",
   "execution_count": 1,
   "metadata": {
    "scrolled": true
   },
   "outputs": [
    {
     "name": "stdout",
     "output_type": "stream",
     "text": [
      "Collecting tkNote: you may need to restart the kernel to use updated packages.\n",
      "\n",
      "  Downloading tk-0.1.0-py3-none-any.whl (3.9 kB)\n",
      "Installing collected packages: tk\n",
      "Successfully installed tk-0.1.0\n"
     ]
    }
   ],
   "source": [
    "pip install tk"
   ]
  },
  {
   "cell_type": "code",
   "execution_count": 22,
   "metadata": {},
   "outputs": [],
   "source": [
    "import tkinter as tk\n",
    "from tkinter import ttk\n",
    "import time\n",
    "\n",
    "def inhale_exhale_timer():\n",
    "    inhale_time = 5 #in seconds\n",
    "    exhale_time = 5 #in seconds\n",
    "    total_cycles = 8\n",
    "    rest_time = 15 #in minutes\n",
    "    water_time = 15 #in minutes\n",
    "\n",
    "    for i in range(total_cycles):\n",
    "        #Inhale\n",
    "        start_time = time.time()\n",
    "        while time.time() < start_time + inhale_time:\n",
    "            root.update()\n",
    "            time_left = int(start_time + inhale_time - time.time())\n",
    "            label['text'] = \"Inhale for: \" + str(time_left) + \" seconds\"\n",
    "        #Exhale\n",
    "        start_time = time.time()\n",
    "        while time.time() < start_time + exhale_time:\n",
    "            root.update()\n",
    "            time_left = int(start_time + exhale_time - time.time())\n",
    "            label['text'] = \"Exhale for: \" + str(time_left) + \" seconds\"\n",
    "\n",
    "        if (i+1) % 4 == 0:\n",
    "            #drink water reminder\n",
    "            label['text'] = \"Take a sip of water now\"\n",
    "            root.update()\n",
    "            time.sleep(water_time*60)\n",
    "            label['text'] = \"Resume breathing\"\n",
    "            root.update()\n",
    "        elif (i+1) % 8 == 0:\n",
    "            #rest reminder\n",
    "            label['text'] = \"Take a short break now\"\n",
    "            root.update()\n",
    "            time.sleep(rest_time*60)\n",
    "            label['text'] = \"Resume breathing\"\n",
    "            root.update()\n",
    "\n",
    "root = tk.Tk()\n",
    "root.geometry(\"300x100\")\n",
    "root.title(\"Breathing Timer\")\n",
    "\n",
    "label = ttk.Label(root, text=\"Click Start to begin\")\n",
    "label.pack()\n",
    "\n",
    "start_button = ttk.Button(root, text=\"Start\", command=inhale_exhale_timer)\n",
    "start_button.pack()\n",
    "\n",
    "root.mainloop()\n"
   ]
  },
  {
   "cell_type": "code",
   "execution_count": 23,
   "metadata": {
    "scrolled": true
   },
   "outputs": [
    {
     "name": "stderr",
     "output_type": "stream",
     "text": [
      "Exception in Tkinter callback\n",
      "Traceback (most recent call last):\n",
      "  File \"C:\\Users\\mill\\anaconda3\\lib\\tkinter\\__init__.py\", line 1883, in __call__\n",
      "    return self.func(*args)\n",
      "  File \"<ipython-input-23-ef466b9db97b>\", line 22, in inhale_exhale_timer\n",
      "    label['text'] = \"Inhale for: \" + str(time_left) + \" seconds\"\n",
      "  File \"C:\\Users\\mill\\anaconda3\\lib\\tkinter\\__init__.py\", line 1648, in __setitem__\n",
      "    self.configure({key: value})\n",
      "  File \"C:\\Users\\mill\\anaconda3\\lib\\tkinter\\__init__.py\", line 1637, in configure\n",
      "    return self._configure('configure', cnf, kw)\n",
      "  File \"C:\\Users\\mill\\anaconda3\\lib\\tkinter\\__init__.py\", line 1627, in _configure\n",
      "    self.tk.call(_flatten((self._w, cmd)) + self._options(cnf))\n",
      "_tkinter.TclError: invalid command name \".!label\"\n"
     ]
    }
   ],
   "source": [
    "import tkinter as tk\n",
    "from tkinter import ttk\n",
    "import time\n",
    "\n",
    "stop_flag = False\n",
    "\n",
    "def inhale_exhale_timer():\n",
    "    inhale_time = 5 #in seconds\n",
    "    exhale_time = 5 #in seconds\n",
    "    total_cycles = 6\n",
    "    rest_time = 15 #in minutes\n",
    "    water_time = 15 #in minutes\n",
    "\n",
    "    for i in range(total_cycles):\n",
    "        #Inhale\n",
    "        if stop_flag == True:\n",
    "            break\n",
    "        start_time = time.time()\n",
    "        while time.time() < start_time + inhale_time:\n",
    "            root.update()\n",
    "            time_left = int(start_time + inhale_time - time.time())\n",
    "            label['text'] = \"Inhale for: \" + str(time_left) + \" seconds\"\n",
    "        #Exhale\n",
    "        start_time = time.time()\n",
    "        while time.time() < start_time + exhale_time:\n",
    "            root.update()\n",
    "            time_left = int(start_time + exhale_time - time.time())\n",
    "            label['text'] = \"Exhale for: \" + str(time_left) + \" seconds\"\n",
    "\n",
    "        if (i+1) % 4 == 0:\n",
    "            #drink water reminder\n",
    "            label['text'] = \"Take a sip of water now\"\n",
    "            root.update()\n",
    "            time.sleep(water_time*60)\n",
    "            label['text'] = \"Resume breathing\"\n",
    "            root.update() \n",
    "        elif (i+1) % 8 == 0:\n",
    "            #rest reminder\n",
    "            label['text'] = \"Take a short break now\"\n",
    "            root.update()\n",
    "            time.sleep(rest_time*60)\n",
    "            label['text'] = \"Resume breathing\"\n",
    "            root.update()\n",
    "\n",
    "def stop_timer():\n",
    "    global stop_flag\n",
    "    stop_flag = True\n",
    "root = tk.Tk()\n",
    "root.geometry(\"300x100\")\n",
    "root.title(\"Breathing Timer\")\n",
    "\n",
    "label = ttk.Label(root, text=\"Click Start to begin\")\n",
    "label.pack()\n",
    "\n",
    "\n",
    "start_button = ttk.Button(root, text=\"Start\", command=inhale_exhale_timer)\n",
    "start_button.pack(side='left')\n",
    "stop_button = ttk.Button(root, text=\"Stop\", command=root.destroy)\n",
    "stop_button.pack(side='right')\n",
    "    \n",
    "\n",
    "root.mainloop()"
   ]
  },
  {
   "cell_type": "code",
   "execution_count": null,
   "metadata": {},
   "outputs": [],
   "source": []
  }
 ],
 "metadata": {
  "kernelspec": {
   "display_name": "Python 3",
   "language": "python",
   "name": "python3"
  },
  "language_info": {
   "codemirror_mode": {
    "name": "ipython",
    "version": 3
   },
   "file_extension": ".py",
   "mimetype": "text/x-python",
   "name": "python",
   "nbconvert_exporter": "python",
   "pygments_lexer": "ipython3",
   "version": "3.8.3"
  }
 },
 "nbformat": 4,
 "nbformat_minor": 4
}
